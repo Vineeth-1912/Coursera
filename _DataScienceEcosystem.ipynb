{
 "cells": [
  {
   "cell_type": "markdown",
   "id": "1b616a44-d5a7-469b-9cf6-64d5c9b6b691",
   "metadata": {},
   "source": [
    "# Data Science Tools and Ecosystem"
   ]
  },
  {
   "cell_type": "markdown",
   "id": "1ce84473-a67a-41f3-8f38-fdc056b26c4a",
   "metadata": {},
   "source": [
    "In this notebook, Data Science Tools and Ecosystem are summarized."
   ]
  },
  {
   "cell_type": "markdown",
   "id": "3e57e3ab-748e-48c9-a2bf-483d9a72549d",
   "metadata": {},
   "source": [
    "Some of the popular languages that Data Scientists use are:"
   ]
  },
  {
   "cell_type": "markdown",
   "id": "212b91fa-8df0-426b-8e84-aeb9382c2541",
   "metadata": {},
   "source": [
    "1. Python\n",
    "2. R\n",
    "3. SQL\n",
    "4. Scala\n",
    "5. Java\n",
    "6. C++\n",
    "7. Julia\n",
    "8. JavaScript\n",
    "9. PHP\n",
    "10. Go\n",
    "11. Ruby\n",
    "12. Visual Basic"
   ]
  },
  {
   "cell_type": "markdown",
   "id": "0f94ae4f-e905-48f6-b791-f973a99e0254",
   "metadata": {},
   "source": [
    "Some of the commonly used libraries used by Data Scientists include:"
   ]
  },
  {
   "cell_type": "markdown",
   "id": "514f5196-471b-4fb7-b81d-85f3c8a8d86b",
   "metadata": {},
   "source": [
    "1. Pandas\n",
    "2. Numpy\n",
    "3. Matplotlib\n",
    "4. Seaborn\n",
    "5. Scikit-learn\n",
    "6. Keras\n",
    "7. TensorFlow\n",
    "8. PyTorch\n",
    "9. Apache Spark\n",
    "10. Vegas\n",
    "11. Big DL\n",
    "12. Ggplot2"
   ]
  },
  {
   "cell_type": "markdown",
   "id": "427d941b-6f6f-48f2-b757-97ec403ad892",
   "metadata": {},
   "source": [
    "These are some data science tools\n",
    "\n",
    "|Data Science Tools |\n",
    "|-------------------|\n",
    "|IBM Watson Studio|\n",
    "|IBM Watson Openscale||\r\n",
    "Anaconda   |\r",
    "Sypder      |R studio |\n",
    "  |\r\n"
   ]
  },
  {
   "cell_type": "markdown",
   "id": "7fc3ac38-74d3-4caf-81d8-04cc462d887f",
   "metadata": {},
   "source": [
    "### Below are a few examples of evaluating arithmetic expressions in Python."
   ]
  },
  {
   "cell_type": "code",
   "execution_count": 33,
   "id": "a2116044-9779-44b1-97ba-a10042a699fd",
   "metadata": {},
   "outputs": [
    {
     "data": {
      "text/plain": [
       "17"
      ]
     },
     "execution_count": 33,
     "metadata": {},
     "output_type": "execute_result"
    }
   ],
   "source": [
    "# This a simple arithmetic expression to mutiply then add integers.\n",
    "(3*4)+5"
   ]
  },
  {
   "cell_type": "markdown",
   "id": "6b48b449-7a9a-46fe-9cbe-144045cd3479",
   "metadata": {},
   "source": [
    "#This will convert 200 minutes to hours by diving by 60."
   ]
  },
  {
   "cell_type": "code",
   "execution_count": 70,
   "id": "50697cb8-d3ff-4cdb-b92c-235cdd1bb3cd",
   "metadata": {},
   "outputs": [
    {
     "name": "stdin",
     "output_type": "stream",
     "text": [
      "Enter Minutes: 200\n"
     ]
    },
    {
     "name": "stdout",
     "output_type": "stream",
     "text": [
      "3.3333333333333335\n"
     ]
    }
   ],
   "source": [
    "#converting hours to minutes\n",
    "minutes=int(input(\"Enter Minutes:\"))\n",
    "hours= minutes/60\n",
    "print(hours)"
   ]
  },
  {
   "cell_type": "markdown",
   "id": "491f4e77-6521-4f6e-8c1b-e70a9521c1e0",
   "metadata": {},
   "source": [
    "Objectives:\n",
    "- **PYTHON**\n",
    "- **MYSQL**\n",
    "- **JULIA**\n",
    "- **RUBY**\n",
    "- **R**\n",
    "- **JAVA SCRIPT**\n",
    "- **SCALA**"
   ]
  },
  {
   "cell_type": "markdown",
   "id": "42c54f8f-f93b-406b-9960-1c1f29b77748",
   "metadata": {},
   "source": [
    "## Author(S)\n",
    "Gunti VineethGagan"
   ]
  },
  {
   "cell_type": "code",
   "execution_count": null,
   "id": "78e67d88-9ef1-4f8e-b4e7-42e1513e247c",
   "metadata": {},
   "outputs": [],
   "source": []
  }
 ],
 "metadata": {
  "kernelspec": {
   "display_name": "Python 3 (ipykernel)",
   "language": "python",
   "name": "python3"
  },
  "language_info": {
   "codemirror_mode": {
    "name": "ipython",
    "version": 3
   },
   "file_extension": ".py",
   "mimetype": "text/x-python",
   "name": "python",
   "nbconvert_exporter": "python",
   "pygments_lexer": "ipython3",
   "version": "3.9.19"
  }
 },
 "nbformat": 4,
 "nbformat_minor": 5
}
